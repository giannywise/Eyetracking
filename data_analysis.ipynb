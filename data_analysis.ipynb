{
 "cells": [
  {
   "cell_type": "code",
   "execution_count": 1082,
   "outputs": [],
   "source": [
    "import math\n",
    "del sys.modules['feature']\n",
    "#import seaborn as sns\n",
    "import pandas as pd\n",
    "import numpy as np\n",
    "import time\n",
    "import os\n",
    "import matplotlib.pyplot as plt\n",
    "import feature as ft"
   ],
   "metadata": {
    "collapsed": false,
    "pycharm": {
     "name": "#%%\n"
    }
   }
  },
  {
   "cell_type": "code",
   "execution_count": 1029,
   "outputs": [
    {
     "data": {
      "text/plain": "      Unnamed: 0   Timestamp  Gaze X  Gaze Y  Lost Track  \\\n0              0    0.003988     260     581           0   \n1              1    0.044087     275     586           0   \n2              2    0.089862     280     588           0   \n3              3    0.136634     312     609           0   \n4              4    0.183798     311     608           0   \n...          ...         ...     ...     ...         ...   \n4472        4472  198.343543     936     366           0   \n4473        4473  198.390480     943     370           0   \n4474        4474  198.451554     929     371           0   \n4475        4475  198.514757     920     377           0   \n4476        4476  198.561189     919     378           0   \n\n                   Confidence  Timestamp in ms  \n0     TrackingConfidence.HIGH                3  \n1     TrackingConfidence.HIGH               44  \n2     TrackingConfidence.HIGH               89  \n3     TrackingConfidence.HIGH              136  \n4     TrackingConfidence.HIGH              183  \n...                       ...              ...  \n4472  TrackingConfidence.HIGH           198343  \n4473  TrackingConfidence.HIGH           198390  \n4474  TrackingConfidence.HIGH           198451  \n4475  TrackingConfidence.HIGH           198514  \n4476  TrackingConfidence.HIGH           198561  \n\n[4477 rows x 7 columns]",
      "text/html": "<div>\n<style scoped>\n    .dataframe tbody tr th:only-of-type {\n        vertical-align: middle;\n    }\n\n    .dataframe tbody tr th {\n        vertical-align: top;\n    }\n\n    .dataframe thead th {\n        text-align: right;\n    }\n</style>\n<table border=\"1\" class=\"dataframe\">\n  <thead>\n    <tr style=\"text-align: right;\">\n      <th></th>\n      <th>Unnamed: 0</th>\n      <th>Timestamp</th>\n      <th>Gaze X</th>\n      <th>Gaze Y</th>\n      <th>Lost Track</th>\n      <th>Confidence</th>\n      <th>Timestamp in ms</th>\n    </tr>\n  </thead>\n  <tbody>\n    <tr>\n      <th>0</th>\n      <td>0</td>\n      <td>0.003988</td>\n      <td>260</td>\n      <td>581</td>\n      <td>0</td>\n      <td>TrackingConfidence.HIGH</td>\n      <td>3</td>\n    </tr>\n    <tr>\n      <th>1</th>\n      <td>1</td>\n      <td>0.044087</td>\n      <td>275</td>\n      <td>586</td>\n      <td>0</td>\n      <td>TrackingConfidence.HIGH</td>\n      <td>44</td>\n    </tr>\n    <tr>\n      <th>2</th>\n      <td>2</td>\n      <td>0.089862</td>\n      <td>280</td>\n      <td>588</td>\n      <td>0</td>\n      <td>TrackingConfidence.HIGH</td>\n      <td>89</td>\n    </tr>\n    <tr>\n      <th>3</th>\n      <td>3</td>\n      <td>0.136634</td>\n      <td>312</td>\n      <td>609</td>\n      <td>0</td>\n      <td>TrackingConfidence.HIGH</td>\n      <td>136</td>\n    </tr>\n    <tr>\n      <th>4</th>\n      <td>4</td>\n      <td>0.183798</td>\n      <td>311</td>\n      <td>608</td>\n      <td>0</td>\n      <td>TrackingConfidence.HIGH</td>\n      <td>183</td>\n    </tr>\n    <tr>\n      <th>...</th>\n      <td>...</td>\n      <td>...</td>\n      <td>...</td>\n      <td>...</td>\n      <td>...</td>\n      <td>...</td>\n      <td>...</td>\n    </tr>\n    <tr>\n      <th>4472</th>\n      <td>4472</td>\n      <td>198.343543</td>\n      <td>936</td>\n      <td>366</td>\n      <td>0</td>\n      <td>TrackingConfidence.HIGH</td>\n      <td>198343</td>\n    </tr>\n    <tr>\n      <th>4473</th>\n      <td>4473</td>\n      <td>198.390480</td>\n      <td>943</td>\n      <td>370</td>\n      <td>0</td>\n      <td>TrackingConfidence.HIGH</td>\n      <td>198390</td>\n    </tr>\n    <tr>\n      <th>4474</th>\n      <td>4474</td>\n      <td>198.451554</td>\n      <td>929</td>\n      <td>371</td>\n      <td>0</td>\n      <td>TrackingConfidence.HIGH</td>\n      <td>198451</td>\n    </tr>\n    <tr>\n      <th>4475</th>\n      <td>4475</td>\n      <td>198.514757</td>\n      <td>920</td>\n      <td>377</td>\n      <td>0</td>\n      <td>TrackingConfidence.HIGH</td>\n      <td>198514</td>\n    </tr>\n    <tr>\n      <th>4476</th>\n      <td>4476</td>\n      <td>198.561189</td>\n      <td>919</td>\n      <td>378</td>\n      <td>0</td>\n      <td>TrackingConfidence.HIGH</td>\n      <td>198561</td>\n    </tr>\n  </tbody>\n</table>\n<p>4477 rows × 7 columns</p>\n</div>"
     },
     "execution_count": 1029,
     "metadata": {},
     "output_type": "execute_result"
    }
   ],
   "source": [
    "try:\n",
    "    del df\n",
    "    del df_fix\n",
    "except NameError:\n",
    "    pass\n",
    "\n",
    "#df = pd.read_csv(\"Daten/Jannis_16_06.csv\",sep=\";\")\n",
    "#df = pd.read_csv(\"Daten/Fiona_21.06.csv\",sep=\",\")\n",
    "df = pd.read_csv(\"Daten/Fiona_21.06.csv\",sep=\",\")\n",
    "df['Gaze Y'] = df['Gaze Y'].fillna(0)\n",
    "df['Gaze X'] = df['Gaze X'].fillna(0)\n",
    "df['Gaze X'] = df['Gaze X'].astype(int)\n",
    "df['Gaze Y'] = df['Gaze Y'].astype(int)\n",
    "df['Lost Track'] = df['Lost Track'].notna().astype(int)\n",
    "# Zeit in MS\n",
    "df['Timestamp in ms'] = df['Timestamp'] * 1000\n",
    "df['Timestamp in ms'] = df['Timestamp in ms'].astype(int)\n",
    "\n",
    "# Generiert Geschwindigkeit (Nicht Fertig)\n",
    "df\n",
    "#df.to_csv(\"test_test.csv\")\n",
    "#df[\"Gaze\n",
    "# Y\"][1773:2324].mean()"
   ],
   "metadata": {
    "collapsed": false,
    "pycharm": {
     "name": "#%%\n"
    }
   }
  },
  {
   "cell_type": "code",
   "execution_count": 846,
   "outputs": [
    {
     "data": {
      "text/plain": "      Unnamed: 0   Timestamp  Gaze X  Gaze Y  Lost Track  \\\n0              0    0.003988     260     581         NaN   \n1              1    0.044087     275     586         NaN   \n2              2    0.089862     280     588         NaN   \n3              3    0.136634     312     609         NaN   \n4              4    0.183798     311     608         NaN   \n...          ...         ...     ...     ...         ...   \n4472        4472  198.343543     936     366         NaN   \n4473        4473  198.390480     943     370         NaN   \n4474        4474  198.451554     929     371         NaN   \n4475        4475  198.514757     920     377         NaN   \n4476        4476  198.561189     919     378         NaN   \n\n                   Confidence  Timestamp in ms  \n0     TrackingConfidence.HIGH                3  \n1     TrackingConfidence.HIGH               44  \n2     TrackingConfidence.HIGH               89  \n3     TrackingConfidence.HIGH              136  \n4     TrackingConfidence.HIGH              183  \n...                       ...              ...  \n4472  TrackingConfidence.HIGH           198343  \n4473  TrackingConfidence.HIGH           198390  \n4474  TrackingConfidence.HIGH           198451  \n4475  TrackingConfidence.HIGH           198514  \n4476  TrackingConfidence.HIGH           198561  \n\n[4477 rows x 7 columns]",
      "text/html": "<div>\n<style scoped>\n    .dataframe tbody tr th:only-of-type {\n        vertical-align: middle;\n    }\n\n    .dataframe tbody tr th {\n        vertical-align: top;\n    }\n\n    .dataframe thead th {\n        text-align: right;\n    }\n</style>\n<table border=\"1\" class=\"dataframe\">\n  <thead>\n    <tr style=\"text-align: right;\">\n      <th></th>\n      <th>Unnamed: 0</th>\n      <th>Timestamp</th>\n      <th>Gaze X</th>\n      <th>Gaze Y</th>\n      <th>Lost Track</th>\n      <th>Confidence</th>\n      <th>Timestamp in ms</th>\n    </tr>\n  </thead>\n  <tbody>\n    <tr>\n      <th>0</th>\n      <td>0</td>\n      <td>0.003988</td>\n      <td>260</td>\n      <td>581</td>\n      <td>NaN</td>\n      <td>TrackingConfidence.HIGH</td>\n      <td>3</td>\n    </tr>\n    <tr>\n      <th>1</th>\n      <td>1</td>\n      <td>0.044087</td>\n      <td>275</td>\n      <td>586</td>\n      <td>NaN</td>\n      <td>TrackingConfidence.HIGH</td>\n      <td>44</td>\n    </tr>\n    <tr>\n      <th>2</th>\n      <td>2</td>\n      <td>0.089862</td>\n      <td>280</td>\n      <td>588</td>\n      <td>NaN</td>\n      <td>TrackingConfidence.HIGH</td>\n      <td>89</td>\n    </tr>\n    <tr>\n      <th>3</th>\n      <td>3</td>\n      <td>0.136634</td>\n      <td>312</td>\n      <td>609</td>\n      <td>NaN</td>\n      <td>TrackingConfidence.HIGH</td>\n      <td>136</td>\n    </tr>\n    <tr>\n      <th>4</th>\n      <td>4</td>\n      <td>0.183798</td>\n      <td>311</td>\n      <td>608</td>\n      <td>NaN</td>\n      <td>TrackingConfidence.HIGH</td>\n      <td>183</td>\n    </tr>\n    <tr>\n      <th>...</th>\n      <td>...</td>\n      <td>...</td>\n      <td>...</td>\n      <td>...</td>\n      <td>...</td>\n      <td>...</td>\n      <td>...</td>\n    </tr>\n    <tr>\n      <th>4472</th>\n      <td>4472</td>\n      <td>198.343543</td>\n      <td>936</td>\n      <td>366</td>\n      <td>NaN</td>\n      <td>TrackingConfidence.HIGH</td>\n      <td>198343</td>\n    </tr>\n    <tr>\n      <th>4473</th>\n      <td>4473</td>\n      <td>198.390480</td>\n      <td>943</td>\n      <td>370</td>\n      <td>NaN</td>\n      <td>TrackingConfidence.HIGH</td>\n      <td>198390</td>\n    </tr>\n    <tr>\n      <th>4474</th>\n      <td>4474</td>\n      <td>198.451554</td>\n      <td>929</td>\n      <td>371</td>\n      <td>NaN</td>\n      <td>TrackingConfidence.HIGH</td>\n      <td>198451</td>\n    </tr>\n    <tr>\n      <th>4475</th>\n      <td>4475</td>\n      <td>198.514757</td>\n      <td>920</td>\n      <td>377</td>\n      <td>NaN</td>\n      <td>TrackingConfidence.HIGH</td>\n      <td>198514</td>\n    </tr>\n    <tr>\n      <th>4476</th>\n      <td>4476</td>\n      <td>198.561189</td>\n      <td>919</td>\n      <td>378</td>\n      <td>NaN</td>\n      <td>TrackingConfidence.HIGH</td>\n      <td>198561</td>\n    </tr>\n  </tbody>\n</table>\n<p>4477 rows × 7 columns</p>\n</div>"
     },
     "execution_count": 846,
     "metadata": {},
     "output_type": "execute_result"
    }
   ],
   "source": [],
   "metadata": {
    "collapsed": false,
    "pycharm": {
     "name": "#%%\n"
    }
   }
  },
  {
   "cell_type": "code",
   "execution_count": 919,
   "outputs": [],
   "source": [
    "df_ges = ft.ges(df)"
   ],
   "metadata": {
    "collapsed": false,
    "pycharm": {
     "name": "#%%\n"
    }
   }
  },
  {
   "cell_type": "code",
   "execution_count": 920,
   "outputs": [
    {
     "data": {
      "text/plain": "      dx  dy   d   vx   vy    v  a\n0     15   5  15  374  124  394  1\n1      5   2   5  109   43  117  1\n2     32  21  38  684  448  818  0\n3     -1  -1   1  -21   21   29  0\n4      2   2   2   64   64   91  0\n...   ..  ..  ..  ...  ...  ... ..\n4471  10   7  12  216  151  263  0\n4472   7   4   8  149   85  171  1\n4473 -14   1  14 -229   16  229 -1\n4474  -9   6  10 -142   94  171  0\n4475  -1   1   1  -21   21   30  0\n\n[4476 rows x 7 columns]",
      "text/html": "<div>\n<style scoped>\n    .dataframe tbody tr th:only-of-type {\n        vertical-align: middle;\n    }\n\n    .dataframe tbody tr th {\n        vertical-align: top;\n    }\n\n    .dataframe thead th {\n        text-align: right;\n    }\n</style>\n<table border=\"1\" class=\"dataframe\">\n  <thead>\n    <tr style=\"text-align: right;\">\n      <th></th>\n      <th>dx</th>\n      <th>dy</th>\n      <th>d</th>\n      <th>vx</th>\n      <th>vy</th>\n      <th>v</th>\n      <th>a</th>\n    </tr>\n  </thead>\n  <tbody>\n    <tr>\n      <th>0</th>\n      <td>15</td>\n      <td>5</td>\n      <td>15</td>\n      <td>374</td>\n      <td>124</td>\n      <td>394</td>\n      <td>1</td>\n    </tr>\n    <tr>\n      <th>1</th>\n      <td>5</td>\n      <td>2</td>\n      <td>5</td>\n      <td>109</td>\n      <td>43</td>\n      <td>117</td>\n      <td>1</td>\n    </tr>\n    <tr>\n      <th>2</th>\n      <td>32</td>\n      <td>21</td>\n      <td>38</td>\n      <td>684</td>\n      <td>448</td>\n      <td>818</td>\n      <td>0</td>\n    </tr>\n    <tr>\n      <th>3</th>\n      <td>-1</td>\n      <td>-1</td>\n      <td>1</td>\n      <td>-21</td>\n      <td>21</td>\n      <td>29</td>\n      <td>0</td>\n    </tr>\n    <tr>\n      <th>4</th>\n      <td>2</td>\n      <td>2</td>\n      <td>2</td>\n      <td>64</td>\n      <td>64</td>\n      <td>91</td>\n      <td>0</td>\n    </tr>\n    <tr>\n      <th>...</th>\n      <td>...</td>\n      <td>...</td>\n      <td>...</td>\n      <td>...</td>\n      <td>...</td>\n      <td>...</td>\n      <td>...</td>\n    </tr>\n    <tr>\n      <th>4471</th>\n      <td>10</td>\n      <td>7</td>\n      <td>12</td>\n      <td>216</td>\n      <td>151</td>\n      <td>263</td>\n      <td>0</td>\n    </tr>\n    <tr>\n      <th>4472</th>\n      <td>7</td>\n      <td>4</td>\n      <td>8</td>\n      <td>149</td>\n      <td>85</td>\n      <td>171</td>\n      <td>1</td>\n    </tr>\n    <tr>\n      <th>4473</th>\n      <td>-14</td>\n      <td>1</td>\n      <td>14</td>\n      <td>-229</td>\n      <td>16</td>\n      <td>229</td>\n      <td>-1</td>\n    </tr>\n    <tr>\n      <th>4474</th>\n      <td>-9</td>\n      <td>6</td>\n      <td>10</td>\n      <td>-142</td>\n      <td>94</td>\n      <td>171</td>\n      <td>0</td>\n    </tr>\n    <tr>\n      <th>4475</th>\n      <td>-1</td>\n      <td>1</td>\n      <td>1</td>\n      <td>-21</td>\n      <td>21</td>\n      <td>30</td>\n      <td>0</td>\n    </tr>\n  </tbody>\n</table>\n<p>4476 rows × 7 columns</p>\n</div>"
     },
     "execution_count": 920,
     "metadata": {},
     "output_type": "execute_result"
    }
   ],
   "source": [
    "df_ges"
   ],
   "metadata": {
    "collapsed": false,
    "pycharm": {
     "name": "#%%\n"
    }
   }
  },
  {
   "cell_type": "code",
   "execution_count": 1030,
   "outputs": [
    {
     "data": {
      "text/plain": "<Figure size 1152x648 with 1 Axes>",
      "image/png": "[encoded data removed]"
     },
     "metadata": {},
     "output_type": "display_data"
    }
   ],
   "source": [
    "df2 = pd.concat([df,df_ges],axis=1)\n",
    "df2 = df2[(df2['Timestamp'].between(30,40) == True)]\n",
    "x = df2[\"Gaze X\"]\n",
    "y = df2[\"Gaze Y\"]\n",
    "#z = df2['Fixation']\n",
    "f = plt.figure()\n",
    "f.set_figwidth(16)\n",
    "f.set_figheight(9)\n",
    "#t = df[\"Timestamp\"].head(100)\n",
    "plt.axis([0,2000,1100,0])\n",
    "plt.scatter(x,y, s = 3)\n",
    "plt.show()"
   ],
   "metadata": {
    "collapsed": false,
    "pycharm": {
     "name": "#%%\n"
    }
   }
  },
  {
   "cell_type": "code",
   "execution_count": 851,
   "outputs": [
    {
     "data": {
      "text/plain": "     Unnamed: 0  Timestamp  Gaze X  Gaze Y  Lost Track  \\\n695         695  30.002202    1007     530         NaN   \n696         696  30.063580     973     475         NaN   \n697         697  30.111967     932     473         NaN   \n698         698  30.157242     932     472         NaN   \n699         699  30.204543     933     466         NaN   \n..          ...        ...     ...     ...         ...   \n913         913  39.810563     346     539         NaN   \n914         914  39.856725     577     600         NaN   \n915         915  39.903512     577     601         NaN   \n916         916  39.949960     574     602         NaN   \n917         917  39.995847     561     600         NaN   \n\n                  Confidence  Timestamp in ms     dx    dy      d      vx  \\\n695  TrackingConfidence.HIGH            30002  -34.0 -55.0   64.0  -553.0   \n696  TrackingConfidence.HIGH            30063  -41.0  -2.0   41.0  -847.0   \n697  TrackingConfidence.HIGH            30111    0.0  -1.0    1.0     0.0   \n698  TrackingConfidence.HIGH            30157    1.0  -6.0    6.0    21.0   \n699  TrackingConfidence.HIGH            30204    0.0   0.0    0.0     0.0   \n..                       ...              ...    ...   ...    ...     ...   \n913  TrackingConfidence.HIGH            39810  231.0  61.0  238.0  5004.0   \n914  TrackingConfidence.HIGH            39856    0.0   1.0    1.0     0.0   \n915  TrackingConfidence.HIGH            39903   -3.0   1.0    3.0   -64.0   \n916  TrackingConfidence.HIGH            39949  -13.0  -2.0   13.0  -283.0   \n917  TrackingConfidence.HIGH            39995  -10.0   0.0   10.0   317.0   \n\n         vy       v    a  \n695   896.0  1053.0  0.0  \n696    41.0   848.0 -1.0  \n697    22.0    22.0  0.0  \n698   126.0   128.0  0.0  \n699     0.0     0.0  0.0  \n..      ...     ...  ...  \n913  1321.0  5175.0  1.0  \n914    21.0    21.0  0.0  \n915    21.0    68.0 -1.0  \n916    43.0   286.0 -1.0  \n917     0.0   317.0  1.0  \n\n[223 rows x 14 columns]",
      "text/html": "<div>\n<style scoped>\n    .dataframe tbody tr th:only-of-type {\n        vertical-align: middle;\n    }\n\n    .dataframe tbody tr th {\n        vertical-align: top;\n    }\n\n    .dataframe thead th {\n        text-align: right;\n    }\n</style>\n<table border=\"1\" class=\"dataframe\">\n  <thead>\n    <tr style=\"text-align: right;\">\n      <th></th>\n      <th>Unnamed: 0</th>\n      <th>Timestamp</th>\n      <th>Gaze X</th>\n      <th>Gaze Y</th>\n      <th>Lost Track</th>\n      <th>Confidence</th>\n      <th>Timestamp in ms</th>\n      <th>dx</th>\n      <th>dy</th>\n      <th>d</th>\n      <th>vx</th>\n      <th>vy</th>\n      <th>v</th>\n      <th>a</th>\n    </tr>\n  </thead>\n  <tbody>\n    <tr>\n      <th>695</th>\n      <td>695</td>\n      <td>30.002202</td>\n      <td>1007</td>\n      <td>530</td>\n      <td>NaN</td>\n      <td>TrackingConfidence.HIGH</td>\n      <td>30002</td>\n      <td>-34.0</td>\n      <td>-55.0</td>\n      <td>64.0</td>\n      <td>-553.0</td>\n      <td>896.0</td>\n      <td>1053.0</td>\n      <td>0.0</td>\n    </tr>\n    <tr>\n      <th>696</th>\n      <td>696</td>\n      <td>30.063580</td>\n      <td>973</td>\n      <td>475</td>\n      <td>NaN</td>\n      <td>TrackingConfidence.HIGH</td>\n      <td>30063</td>\n      <td>-41.0</td>\n      <td>-2.0</td>\n      <td>41.0</td>\n      <td>-847.0</td>\n      <td>41.0</td>\n      <td>848.0</td>\n      <td>-1.0</td>\n    </tr>\n    <tr>\n      <th>697</th>\n      <td>697</td>\n      <td>30.111967</td>\n      <td>932</td>\n      <td>473</td>\n      <td>NaN</td>\n      <td>TrackingConfidence.HIGH</td>\n      <td>30111</td>\n      <td>0.0</td>\n      <td>-1.0</td>\n      <td>1.0</td>\n      <td>0.0</td>\n      <td>22.0</td>\n      <td>22.0</td>\n      <td>0.0</td>\n    </tr>\n    <tr>\n      <th>698</th>\n      <td>698</td>\n      <td>30.157242</td>\n      <td>932</td>\n      <td>472</td>\n      <td>NaN</td>\n      <td>TrackingConfidence.HIGH</td>\n      <td>30157</td>\n      <td>1.0</td>\n      <td>-6.0</td>\n      <td>6.0</td>\n      <td>21.0</td>\n      <td>126.0</td>\n      <td>128.0</td>\n      <td>0.0</td>\n    </tr>\n    <tr>\n      <th>699</th>\n      <td>699</td>\n      <td>30.204543</td>\n      <td>933</td>\n      <td>466</td>\n      <td>NaN</td>\n      <td>TrackingConfidence.HIGH</td>\n      <td>30204</td>\n      <td>0.0</td>\n      <td>0.0</td>\n      <td>0.0</td>\n      <td>0.0</td>\n      <td>0.0</td>\n      <td>0.0</td>\n      <td>0.0</td>\n    </tr>\n    <tr>\n      <th>...</th>\n      <td>...</td>\n      <td>...</td>\n      <td>...</td>\n      <td>...</td>\n      <td>...</td>\n      <td>...</td>\n      <td>...</td>\n      <td>...</td>\n      <td>...</td>\n      <td>...</td>\n      <td>...</td>\n      <td>...</td>\n      <td>...</td>\n      <td>...</td>\n    </tr>\n    <tr>\n      <th>913</th>\n      <td>913</td>\n      <td>39.810563</td>\n      <td>346</td>\n      <td>539</td>\n      <td>NaN</td>\n      <td>TrackingConfidence.HIGH</td>\n      <td>39810</td>\n      <td>231.0</td>\n      <td>61.0</td>\n      <td>238.0</td>\n      <td>5004.0</td>\n      <td>1321.0</td>\n      <td>5175.0</td>\n      <td>1.0</td>\n    </tr>\n    <tr>\n      <th>914</th>\n      <td>914</td>\n      <td>39.856725</td>\n      <td>577</td>\n      <td>600</td>\n      <td>NaN</td>\n      <td>TrackingConfidence.HIGH</td>\n      <td>39856</td>\n      <td>0.0</td>\n      <td>1.0</td>\n      <td>1.0</td>\n      <td>0.0</td>\n      <td>21.0</td>\n      <td>21.0</td>\n      <td>0.0</td>\n    </tr>\n    <tr>\n      <th>915</th>\n      <td>915</td>\n      <td>39.903512</td>\n      <td>577</td>\n      <td>601</td>\n      <td>NaN</td>\n      <td>TrackingConfidence.HIGH</td>\n      <td>39903</td>\n      <td>-3.0</td>\n      <td>1.0</td>\n      <td>3.0</td>\n      <td>-64.0</td>\n      <td>21.0</td>\n      <td>68.0</td>\n      <td>-1.0</td>\n    </tr>\n    <tr>\n      <th>916</th>\n      <td>916</td>\n      <td>39.949960</td>\n      <td>574</td>\n      <td>602</td>\n      <td>NaN</td>\n      <td>TrackingConfidence.HIGH</td>\n      <td>39949</td>\n      <td>-13.0</td>\n      <td>-2.0</td>\n      <td>13.0</td>\n      <td>-283.0</td>\n      <td>43.0</td>\n      <td>286.0</td>\n      <td>-1.0</td>\n    </tr>\n    <tr>\n      <th>917</th>\n      <td>917</td>\n      <td>39.995847</td>\n      <td>561</td>\n      <td>600</td>\n      <td>NaN</td>\n      <td>TrackingConfidence.HIGH</td>\n      <td>39995</td>\n      <td>-10.0</td>\n      <td>0.0</td>\n      <td>10.0</td>\n      <td>317.0</td>\n      <td>0.0</td>\n      <td>317.0</td>\n      <td>1.0</td>\n    </tr>\n  </tbody>\n</table>\n<p>223 rows × 14 columns</p>\n</div>"
     },
     "execution_count": 851,
     "metadata": {},
     "output_type": "execute_result"
    }
   ],
   "source": [
    "df2"
   ],
   "metadata": {
    "collapsed": false,
    "pycharm": {
     "name": "#%%\n"
    }
   }
  },
  {
   "cell_type": "code",
   "execution_count": 1040,
   "outputs": [
    {
     "data": {
      "text/plain": "      Unnamed: 0   Timestamp  Gaze X  Gaze Y  Lost Track  \\\n0              0    0.003988     260     581           0   \n1              1    0.044087     275     586           0   \n2              2    0.089862     280     588           0   \n3              3    0.136634     312     609           0   \n4              4    0.183798     311     608           0   \n...          ...         ...     ...     ...         ...   \n4472        4472  198.343543     936     366           0   \n4473        4473  198.390480     943     370           0   \n4474        4474  198.451554     929     371           0   \n4475        4475  198.514757     920     377           0   \n4476        4476  198.561189     919     378           0   \n\n                   Confidence  Timestamp in ms    dx    dy     d     vx  \\\n0     TrackingConfidence.HIGH                3  15.0   5.0  15.0  374.0   \n1     TrackingConfidence.HIGH               44   5.0   2.0   5.0  109.0   \n2     TrackingConfidence.HIGH               89  32.0  21.0  38.0  684.0   \n3     TrackingConfidence.HIGH              136  -1.0  -1.0   1.0  -21.0   \n4     TrackingConfidence.HIGH              183   2.0   2.0   2.0   64.0   \n...                       ...              ...   ...   ...   ...    ...   \n4472  TrackingConfidence.HIGH           198343   7.0   4.0   8.0  149.0   \n4473  TrackingConfidence.HIGH           198390 -14.0   1.0  14.0 -229.0   \n4474  TrackingConfidence.HIGH           198451  -9.0   6.0  10.0 -142.0   \n4475  TrackingConfidence.HIGH           198514  -1.0   1.0   1.0  -21.0   \n4476  TrackingConfidence.HIGH           198561   NaN   NaN   NaN    NaN   \n\n         vy      v    a  Fixation  \n0     124.0  394.0  1.0       1.0  \n1      43.0  117.0  1.0       1.0  \n2     448.0  818.0  0.0       1.0  \n3      21.0   29.0  0.0       1.0  \n4      64.0   91.0  0.0       1.0  \n...     ...    ...  ...       ...  \n4472   85.0  171.0  1.0     358.0  \n4473   16.0  229.0 -1.0     358.0  \n4474   94.0  171.0  0.0     358.0  \n4475   21.0   30.0  0.0     358.0  \n4476    NaN    NaN  NaN       NaN  \n\n[4368 rows x 15 columns]",
      "text/html": "<div>\n<style scoped>\n    .dataframe tbody tr th:only-of-type {\n        vertical-align: middle;\n    }\n\n    .dataframe tbody tr th {\n        vertical-align: top;\n    }\n\n    .dataframe thead th {\n        text-align: right;\n    }\n</style>\n<table border=\"1\" class=\"dataframe\">\n  <thead>\n    <tr style=\"text-align: right;\">\n      <th></th>\n      <th>Unnamed: 0</th>\n      <th>Timestamp</th>\n      <th>Gaze X</th>\n      <th>Gaze Y</th>\n      <th>Lost Track</th>\n      <th>Confidence</th>\n      <th>Timestamp in ms</th>\n      <th>dx</th>\n      <th>dy</th>\n      <th>d</th>\n      <th>vx</th>\n      <th>vy</th>\n      <th>v</th>\n      <th>a</th>\n      <th>Fixation</th>\n    </tr>\n  </thead>\n  <tbody>\n    <tr>\n      <th>0</th>\n      <td>0</td>\n      <td>0.003988</td>\n      <td>260</td>\n      <td>581</td>\n      <td>0</td>\n      <td>TrackingConfidence.HIGH</td>\n      <td>3</td>\n      <td>15.0</td>\n      <td>5.0</td>\n      <td>15.0</td>\n      <td>374.0</td>\n      <td>124.0</td>\n      <td>394.0</td>\n      <td>1.0</td>\n      <td>1.0</td>\n    </tr>\n    <tr>\n      <th>1</th>\n      <td>1</td>\n      <td>0.044087</td>\n      <td>275</td>\n      <td>586</td>\n      <td>0</td>\n      <td>TrackingConfidence.HIGH</td>\n      <td>44</td>\n      <td>5.0</td>\n      <td>2.0</td>\n      <td>5.0</td>\n      <td>109.0</td>\n      <td>43.0</td>\n      <td>117.0</td>\n      <td>1.0</td>\n      <td>1.0</td>\n    </tr>\n    <tr>\n      <th>2</th>\n      <td>2</td>\n      <td>0.089862</td>\n      <td>280</td>\n      <td>588</td>\n      <td>0</td>\n      <td>TrackingConfidence.HIGH</td>\n      <td>89</td>\n      <td>32.0</td>\n      <td>21.0</td>\n      <td>38.0</td>\n      <td>684.0</td>\n      <td>448.0</td>\n      <td>818.0</td>\n      <td>0.0</td>\n      <td>1.0</td>\n    </tr>\n    <tr>\n      <th>3</th>\n      <td>3</td>\n      <td>0.136634</td>\n      <td>312</td>\n      <td>609</td>\n      <td>0</td>\n      <td>TrackingConfidence.HIGH</td>\n      <td>136</td>\n      <td>-1.0</td>\n      <td>-1.0</td>\n      <td>1.0</td>\n      <td>-21.0</td>\n      <td>21.0</td>\n      <td>29.0</td>\n      <td>0.0</td>\n      <td>1.0</td>\n    </tr>\n    <tr>\n      <th>4</th>\n      <td>4</td>\n      <td>0.183798</td>\n      <td>311</td>\n      <td>608</td>\n      <td>0</td>\n      <td>TrackingConfidence.HIGH</td>\n      <td>183</td>\n      <td>2.0</td>\n      <td>2.0</td>\n      <td>2.0</td>\n      <td>64.0</td>\n      <td>64.0</td>\n      <td>91.0</td>\n      <td>0.0</td>\n      <td>1.0</td>\n    </tr>\n    <tr>\n      <th>...</th>\n      <td>...</td>\n      <td>...</td>\n      <td>...</td>\n      <td>...</td>\n      <td>...</td>\n      <td>...</td>\n      <td>...</td>\n      <td>...</td>\n      <td>...</td>\n      <td>...</td>\n      <td>...</td>\n      <td>...</td>\n      <td>...</td>\n      <td>...</td>\n      <td>...</td>\n    </tr>\n    <tr>\n      <th>4472</th>\n      <td>4472</td>\n      <td>198.343543</td>\n      <td>936</td>\n      <td>366</td>\n      <td>0</td>\n      <td>TrackingConfidence.HIGH</td>\n      <td>198343</td>\n      <td>7.0</td>\n      <td>4.0</td>\n      <td>8.0</td>\n      <td>149.0</td>\n      <td>85.0</td>\n      <td>171.0</td>\n      <td>1.0</td>\n      <td>358.0</td>\n    </tr>\n    <tr>\n      <th>4473</th>\n      <td>4473</td>\n      <td>198.390480</td>\n      <td>943</td>\n      <td>370</td>\n      <td>0</td>\n      <td>TrackingConfidence.HIGH</td>\n      <td>198390</td>\n      <td>-14.0</td>\n      <td>1.0</td>\n      <td>14.0</td>\n      <td>-229.0</td>\n      <td>16.0</td>\n      <td>229.0</td>\n      <td>-1.0</td>\n      <td>358.0</td>\n    </tr>\n    <tr>\n      <th>4474</th>\n      <td>4474</td>\n      <td>198.451554</td>\n      <td>929</td>\n      <td>371</td>\n      <td>0</td>\n      <td>TrackingConfidence.HIGH</td>\n      <td>198451</td>\n      <td>-9.0</td>\n      <td>6.0</td>\n      <td>10.0</td>\n      <td>-142.0</td>\n      <td>94.0</td>\n      <td>171.0</td>\n      <td>0.0</td>\n      <td>358.0</td>\n    </tr>\n    <tr>\n      <th>4475</th>\n      <td>4475</td>\n      <td>198.514757</td>\n      <td>920</td>\n      <td>377</td>\n      <td>0</td>\n      <td>TrackingConfidence.HIGH</td>\n      <td>198514</td>\n      <td>-1.0</td>\n      <td>1.0</td>\n      <td>1.0</td>\n      <td>-21.0</td>\n      <td>21.0</td>\n      <td>30.0</td>\n      <td>0.0</td>\n      <td>358.0</td>\n    </tr>\n    <tr>\n      <th>4476</th>\n      <td>4476</td>\n      <td>198.561189</td>\n      <td>919</td>\n      <td>378</td>\n      <td>0</td>\n      <td>TrackingConfidence.HIGH</td>\n      <td>198561</td>\n      <td>NaN</td>\n      <td>NaN</td>\n      <td>NaN</td>\n      <td>NaN</td>\n      <td>NaN</td>\n      <td>NaN</td>\n      <td>NaN</td>\n      <td>NaN</td>\n    </tr>\n  </tbody>\n</table>\n<p>4368 rows × 15 columns</p>\n</div>"
     },
     "execution_count": 1040,
     "metadata": {},
     "output_type": "execute_result"
    }
   ],
   "source": [
    "try:\n",
    "    del df_new\n",
    "except NameError:\n",
    "    pass\n",
    "# Filter\n",
    " #and (df_new[\"dy\"] > 0) == True and df_new[\"dx\"] <= 10 == True and df_new[\"dx\"] >= -10 == True\n",
    "#df_new['dx'] = np.sqrt(df_new['dx'] ** 2)\n",
    "df_new = pd.concat([df,df_ges],axis=1)\n",
    "#df_new = df_new.loc[(df_new[\"dx\"] >= 10) & (df_new[\"dx\"] >= -10) == True]\n",
    "#df_new = df_new.loc[(df_new[\"dy\"] >= 20 * df_new[\"dx\"]) & (df_new[\"dy\"] > 0) == False]\n",
    "#df_new = df_new.loc[(df_new[\"vx\"] < -10) & (df_new[\"vx\"] > 10) == False]\n",
    "#df_new = df_new.loc[(df_new[\"vy\"] <= 2500) & (df_new['vx'] >= 100) == True]\n",
    "#df_new = df_new[(df_new[\"Gaze Y\"] <= 1030) == True].reset_index()\n",
    "df_new['Fixation'] = ft.fix(df_new)\n",
    "df_new = df_new.loc[(df_new['v'] == 0) & (df_new['Fixation'] == 0) == False]\n",
    "df_new"
   ],
   "metadata": {
    "collapsed": false,
    "pycharm": {
     "name": "#%%\n"
    }
   }
  },
  {
   "cell_type": "code",
   "execution_count": 809,
   "outputs": [
    {
     "data": {
      "text/plain": "Unnamed: 0           int64\nTimestamp          float64\nGaze X               int64\nGaze Y               int64\nLost Track         float64\nConfidence          object\nTimestamp in ms      int64\ndx                 float64\ndy                 float64\nd                  float64\nvx                 float64\nvy                 float64\nv                  float64\na                  float64\ndtype: object"
     },
     "execution_count": 809,
     "metadata": {},
     "output_type": "execute_result"
    }
   ],
   "source": [
    "# Filter durch iteration\n",
    "\n",
    "for i in range(len(df_new)):\n",
    "    j = i + 1\n",
    "    if df_new.loc[(df_new[i][\"vy\"] <= 2500) & (df_new['vx'] >= 100)]"
   ],
   "metadata": {
    "collapsed": false,
    "pycharm": {
     "name": "#%%\n"
    }
   }
  },
  {
   "cell_type": "code",
   "execution_count": 1041,
   "outputs": [
    {
     "data": {
      "text/plain": "<Figure size 1152x648 with 1 Axes>",
      "image/png": "[encoded data removed]"
     },
     "metadata": {},
     "output_type": "display_data"
    }
   ],
   "source": [
    "df_filter = df_new[(df_new['Timestamp'].between(160,165) == True)]\n",
    "#df_filter = df_filter[(df_new[\"Fixation\"] == 0) == True]\n",
    "x = df_filter[\"Gaze X\"]\n",
    "y = df_filter[\"Gaze Y\"]\n",
    "z = df_filter['Fixation']\n",
    "f = plt.figure()\n",
    "f.set_figwidth(16)\n",
    "f.set_figheight(9)\n",
    "#t = df[\"Timestamp\"].head(100)\n",
    "plt.axis([0,2000,1100,0])\n",
    "plt.scatter(x,y, s = 4, c=z)\n",
    "plt.show()"
   ],
   "metadata": {
    "collapsed": false,
    "pycharm": {
     "name": "#%%\n"
    }
   }
  },
  {
   "cell_type": "code",
   "execution_count": 1033,
   "outputs": [
    {
     "data": {
      "text/plain": "      Unnamed: 0   Timestamp  Gaze X  Gaze Y  Lost Track  \\\n3611        3611  160.023674     238     389           0   \n3613        3613  160.100513     337     370           0   \n3614        3614  160.146865     824     426           0   \n3615        3615  160.177695     826     413           0   \n3616        3616  160.224344     822     410           0   \n...          ...         ...     ...     ...         ...   \n3723        3723  164.805882     798     497           0   \n3724        3724  164.852683     802     499           0   \n3725        3725  164.898793     784     487           0   \n3726        3726  164.930776     781     518           0   \n3727        3727  164.976588     732     670           0   \n\n                   Confidence  Timestamp in ms     dx     dy      d       vx  \\\n3611  TrackingConfidence.HIGH           160023   99.0  -19.0  100.0   2131.0   \n3613  TrackingConfidence.HIGH           160100  487.0   56.0  490.0  10506.0   \n3614  TrackingConfidence.HIGH           160146    2.0  -13.0   13.0     64.0   \n3615  TrackingConfidence.HIGH           160177   -4.0   -3.0    5.0    -85.0   \n3616  TrackingConfidence.HIGH           160224   32.0    7.0   32.0    682.0   \n...                       ...              ...    ...    ...    ...      ...   \n3723  TrackingConfidence.HIGH           164805    4.0    2.0    4.0     85.0   \n3724  TrackingConfidence.HIGH           164852  -18.0  -12.0   21.0   -390.0   \n3725  TrackingConfidence.HIGH           164898   -3.0   31.0   31.0    -93.0   \n3726  TrackingConfidence.HIGH           164930  -49.0  152.0  159.0  -1069.0   \n3727  TrackingConfidence.HIGH           164976   25.0  259.0  260.0    526.0   \n\n          vy        v    a  Fixation  \n3611   408.0   2169.0  1.0     454.0  \n3613  1208.0  10575.0  1.0     455.0  \n3614   421.0    426.0  0.0       0.0  \n3615    64.0    107.0  0.0     456.0  \n3616   149.0    698.0  1.0     456.0  \n...      ...      ...  ...       ...  \n3723    42.0     95.0  1.0     466.0  \n3724   260.0    469.0  0.0     466.0  \n3725   969.0    973.0  0.0     466.0  \n3726  3317.0   3486.0  0.0       0.0  \n3727  5457.0   5482.0  0.0       0.0  \n\n[100 rows x 15 columns]",
      "text/html": "<div>\n<style scoped>\n    .dataframe tbody tr th:only-of-type {\n        vertical-align: middle;\n    }\n\n    .dataframe tbody tr th {\n        vertical-align: top;\n    }\n\n    .dataframe thead th {\n        text-align: right;\n    }\n</style>\n<table border=\"1\" class=\"dataframe\">\n  <thead>\n    <tr style=\"text-align: right;\">\n      <th></th>\n      <th>Unnamed: 0</th>\n      <th>Timestamp</th>\n      <th>Gaze X</th>\n      <th>Gaze Y</th>\n      <th>Lost Track</th>\n      <th>Confidence</th>\n      <th>Timestamp in ms</th>\n      <th>dx</th>\n      <th>dy</th>\n      <th>d</th>\n      <th>vx</th>\n      <th>vy</th>\n      <th>v</th>\n      <th>a</th>\n      <th>Fixation</th>\n    </tr>\n  </thead>\n  <tbody>\n    <tr>\n      <th>3611</th>\n      <td>3611</td>\n      <td>160.023674</td>\n      <td>238</td>\n      <td>389</td>\n      <td>0</td>\n      <td>TrackingConfidence.HIGH</td>\n      <td>160023</td>\n      <td>99.0</td>\n      <td>-19.0</td>\n      <td>100.0</td>\n      <td>2131.0</td>\n      <td>408.0</td>\n      <td>2169.0</td>\n      <td>1.0</td>\n      <td>454.0</td>\n    </tr>\n    <tr>\n      <th>3613</th>\n      <td>3613</td>\n      <td>160.100513</td>\n      <td>337</td>\n      <td>370</td>\n      <td>0</td>\n      <td>TrackingConfidence.HIGH</td>\n      <td>160100</td>\n      <td>487.0</td>\n      <td>56.0</td>\n      <td>490.0</td>\n      <td>10506.0</td>\n      <td>1208.0</td>\n      <td>10575.0</td>\n      <td>1.0</td>\n      <td>455.0</td>\n    </tr>\n    <tr>\n      <th>3614</th>\n      <td>3614</td>\n      <td>160.146865</td>\n      <td>824</td>\n      <td>426</td>\n      <td>0</td>\n      <td>TrackingConfidence.HIGH</td>\n      <td>160146</td>\n      <td>2.0</td>\n      <td>-13.0</td>\n      <td>13.0</td>\n      <td>64.0</td>\n      <td>421.0</td>\n      <td>426.0</td>\n      <td>0.0</td>\n      <td>0.0</td>\n    </tr>\n    <tr>\n      <th>3615</th>\n      <td>3615</td>\n      <td>160.177695</td>\n      <td>826</td>\n      <td>413</td>\n      <td>0</td>\n      <td>TrackingConfidence.HIGH</td>\n      <td>160177</td>\n      <td>-4.0</td>\n      <td>-3.0</td>\n      <td>5.0</td>\n      <td>-85.0</td>\n      <td>64.0</td>\n      <td>107.0</td>\n      <td>0.0</td>\n      <td>456.0</td>\n    </tr>\n    <tr>\n      <th>3616</th>\n      <td>3616</td>\n      <td>160.224344</td>\n      <td>822</td>\n      <td>410</td>\n      <td>0</td>\n      <td>TrackingConfidence.HIGH</td>\n      <td>160224</td>\n      <td>32.0</td>\n      <td>7.0</td>\n      <td>32.0</td>\n      <td>682.0</td>\n      <td>149.0</td>\n      <td>698.0</td>\n      <td>1.0</td>\n      <td>456.0</td>\n    </tr>\n    <tr>\n      <th>...</th>\n      <td>...</td>\n      <td>...</td>\n      <td>...</td>\n      <td>...</td>\n      <td>...</td>\n      <td>...</td>\n      <td>...</td>\n      <td>...</td>\n      <td>...</td>\n      <td>...</td>\n      <td>...</td>\n      <td>...</td>\n      <td>...</td>\n      <td>...</td>\n      <td>...</td>\n    </tr>\n    <tr>\n      <th>3723</th>\n      <td>3723</td>\n      <td>164.805882</td>\n      <td>798</td>\n      <td>497</td>\n      <td>0</td>\n      <td>TrackingConfidence.HIGH</td>\n      <td>164805</td>\n      <td>4.0</td>\n      <td>2.0</td>\n      <td>4.0</td>\n      <td>85.0</td>\n      <td>42.0</td>\n      <td>95.0</td>\n      <td>1.0</td>\n      <td>466.0</td>\n    </tr>\n    <tr>\n      <th>3724</th>\n      <td>3724</td>\n      <td>164.852683</td>\n      <td>802</td>\n      <td>499</td>\n      <td>0</td>\n      <td>TrackingConfidence.HIGH</td>\n      <td>164852</td>\n      <td>-18.0</td>\n      <td>-12.0</td>\n      <td>21.0</td>\n      <td>-390.0</td>\n      <td>260.0</td>\n      <td>469.0</td>\n      <td>0.0</td>\n      <td>466.0</td>\n    </tr>\n    <tr>\n      <th>3725</th>\n      <td>3725</td>\n      <td>164.898793</td>\n      <td>784</td>\n      <td>487</td>\n      <td>0</td>\n      <td>TrackingConfidence.HIGH</td>\n      <td>164898</td>\n      <td>-3.0</td>\n      <td>31.0</td>\n      <td>31.0</td>\n      <td>-93.0</td>\n      <td>969.0</td>\n      <td>973.0</td>\n      <td>0.0</td>\n      <td>466.0</td>\n    </tr>\n    <tr>\n      <th>3726</th>\n      <td>3726</td>\n      <td>164.930776</td>\n      <td>781</td>\n      <td>518</td>\n      <td>0</td>\n      <td>TrackingConfidence.HIGH</td>\n      <td>164930</td>\n      <td>-49.0</td>\n      <td>152.0</td>\n      <td>159.0</td>\n      <td>-1069.0</td>\n      <td>3317.0</td>\n      <td>3486.0</td>\n      <td>0.0</td>\n      <td>0.0</td>\n    </tr>\n    <tr>\n      <th>3727</th>\n      <td>3727</td>\n      <td>164.976588</td>\n      <td>732</td>\n      <td>670</td>\n      <td>0</td>\n      <td>TrackingConfidence.HIGH</td>\n      <td>164976</td>\n      <td>25.0</td>\n      <td>259.0</td>\n      <td>260.0</td>\n      <td>526.0</td>\n      <td>5457.0</td>\n      <td>5482.0</td>\n      <td>0.0</td>\n      <td>0.0</td>\n    </tr>\n  </tbody>\n</table>\n<p>100 rows × 15 columns</p>\n</div>"
     },
     "execution_count": 1033,
     "metadata": {},
     "output_type": "execute_result"
    }
   ],
   "source": [
    "df_filter"
   ],
   "metadata": {
    "collapsed": false,
    "pycharm": {
     "name": "#%%\n"
    }
   }
  },
  {
   "cell_type": "code",
   "execution_count": 656,
   "outputs": [
    {
     "data": {
      "text/plain": "     Gaze X  Gaze Y  Fixation       v     d\n485    1157     512      28.0     0.0   0.0\n486    1157     512      28.0   306.0   5.0\n487    1162     515      28.0     0.0   0.0\n488    1162     515      28.0  1175.0  22.0\n489    1184     511      28.0     0.0   0.0\n..      ...     ...       ...     ...   ...\n714    1070     456      37.0   502.0  10.0\n715    1060     457      37.0     0.0   0.0\n716    1060     457      37.0   410.0   7.0\n721    1082     574      38.0     0.0   0.0\n722    1082     574      38.0   462.0   9.0\n\n[231 rows x 5 columns]",
      "text/html": "<div>\n<style scoped>\n    .dataframe tbody tr th:only-of-type {\n        vertical-align: middle;\n    }\n\n    .dataframe tbody tr th {\n        vertical-align: top;\n    }\n\n    .dataframe thead th {\n        text-align: right;\n    }\n</style>\n<table border=\"1\" class=\"dataframe\">\n  <thead>\n    <tr style=\"text-align: right;\">\n      <th></th>\n      <th>Gaze X</th>\n      <th>Gaze Y</th>\n      <th>Fixation</th>\n      <th>v</th>\n      <th>d</th>\n    </tr>\n  </thead>\n  <tbody>\n    <tr>\n      <th>485</th>\n      <td>1157</td>\n      <td>512</td>\n      <td>28.0</td>\n      <td>0.0</td>\n      <td>0.0</td>\n    </tr>\n    <tr>\n      <th>486</th>\n      <td>1157</td>\n      <td>512</td>\n      <td>28.0</td>\n      <td>306.0</td>\n      <td>5.0</td>\n    </tr>\n    <tr>\n      <th>487</th>\n      <td>1162</td>\n      <td>515</td>\n      <td>28.0</td>\n      <td>0.0</td>\n      <td>0.0</td>\n    </tr>\n    <tr>\n      <th>488</th>\n      <td>1162</td>\n      <td>515</td>\n      <td>28.0</td>\n      <td>1175.0</td>\n      <td>22.0</td>\n    </tr>\n    <tr>\n      <th>489</th>\n      <td>1184</td>\n      <td>511</td>\n      <td>28.0</td>\n      <td>0.0</td>\n      <td>0.0</td>\n    </tr>\n    <tr>\n      <th>...</th>\n      <td>...</td>\n      <td>...</td>\n      <td>...</td>\n      <td>...</td>\n      <td>...</td>\n    </tr>\n    <tr>\n      <th>714</th>\n      <td>1070</td>\n      <td>456</td>\n      <td>37.0</td>\n      <td>502.0</td>\n      <td>10.0</td>\n    </tr>\n    <tr>\n      <th>715</th>\n      <td>1060</td>\n      <td>457</td>\n      <td>37.0</td>\n      <td>0.0</td>\n      <td>0.0</td>\n    </tr>\n    <tr>\n      <th>716</th>\n      <td>1060</td>\n      <td>457</td>\n      <td>37.0</td>\n      <td>410.0</td>\n      <td>7.0</td>\n    </tr>\n    <tr>\n      <th>721</th>\n      <td>1082</td>\n      <td>574</td>\n      <td>38.0</td>\n      <td>0.0</td>\n      <td>0.0</td>\n    </tr>\n    <tr>\n      <th>722</th>\n      <td>1082</td>\n      <td>574</td>\n      <td>38.0</td>\n      <td>462.0</td>\n      <td>9.0</td>\n    </tr>\n  </tbody>\n</table>\n<p>231 rows × 5 columns</p>\n</div>"
     },
     "execution_count": 656,
     "metadata": {},
     "output_type": "execute_result"
    }
   ],
   "source": [
    "df_filter[['Gaze X','Gaze Y','Fixation','v','d']]\n",
    "#df_test = df_filter.loc[(df_filter['Fixation'] == 0) & (df_filter['v'] != 0) == True]\n",
    "#df_test[['Gaze X','Gaze Y','Fixation','v','d']]"
   ],
   "metadata": {
    "collapsed": false,
    "pycharm": {
     "name": "#%%\n"
    }
   }
  },
  {
   "cell_type": "code",
   "execution_count": 696,
   "outputs": [
    {
     "data": {
      "text/plain": "Float64Index([   1.0,    0.0,    2.0,    3.0,    4.0,    5.0,    6.0,    7.0,\n                 8.0,   10.0,\n              ...\n               674.0,  798.0,  970.0, 1292.0, 1301.0,  647.0,  797.0,  891.0,\n              1186.0, 1287.0],\n             dtype='float64', length=1322)"
     },
     "execution_count": 696,
     "metadata": {},
     "output_type": "execute_result"
    }
   ],
   "source": [
    "\n",
    "fix_count = df_new['Fixation'].value_counts(sort=False)\n",
    "#df_new['Fixation Count'] = df_new['Fixation'].value_counts()\n",
    "#df_new['Fixation count'] = pd.merge(df_new,fix_count,on='Fixation')"
   ],
   "metadata": {
    "collapsed": false,
    "pycharm": {
     "name": "#%%\n"
    }
   }
  },
  {
   "cell_type": "code",
   "execution_count": 877,
   "outputs": [
    {
     "data": {
      "text/plain": "1"
     },
     "execution_count": 877,
     "metadata": {},
     "output_type": "execute_result"
    }
   ],
   "source": [
    "df_sac = pd.DataFrame({'Saccades': []})\n",
    "    f = 1\n",
    "    for i in range(len(df)):\n",
    "        try:\n",
    "            p = i - 1\n",
    "            j = i + 1\n",
    "            k = j + 1\n",
    "            d = 30  # absoluter Abstand\n",
    "            try:\n",
    "                if df.iloc[i]['Fixation'] == 0:\n",
    "                    df_sac = df_sac.append({'Saccade':f}, ignore_index=True).astype(int)\n",
    "                    if np.isnan() == True:\n",
    "                        pass\n",
    "                else:\n",
    "                    f += 1\n",
    "                    if np.isnan() == True:\n",
    "                            pass\n",
    "                    pass\n",
    "            except ValueError: pass\n",
    "\n",
    "        except IndexError:\n",
    "            # df_fix = df_fix.append({'Fixation': 0}, ignore_index=True).astype(int)\n",
    "            pass\n",
    "    # df_fix = df_fix.shift(periods=1, axis=0, fill_value= 1)\n",
    "    # d = df['Fixation'] = df_fix\n",
    "    # d['Fixation'] = d['Fixation'].notna().astype(int)"
   ],
   "metadata": {
    "collapsed": false,
    "pycharm": {
     "name": "#%%\n"
    }
   }
  },
  {
   "cell_type": "code",
   "execution_count": 1083,
   "outputs": [],
   "source": [],
   "metadata": {
    "collapsed": false,
    "pycharm": {
     "name": "#%%\n"
    }
   }
  },
  {
   "cell_type": "code",
   "execution_count": 1084,
   "outputs": [
    {
     "data": {
      "text/plain": "     level_0  index  Unnamed: 0   Timestamp  Gaze X  Gaze Y  Lost Track  \\\n0          0   3611        3611  160.023674     238     389           0   \n1          1   3612        3612  160.070128     337     370           0   \n2          2   3613        3613  160.100513     337     370           0   \n3          3   3614        3614  160.146865     824     426           0   \n4          4   3615        3615  160.177695     826     413           0   \n..       ...    ...         ...         ...     ...     ...         ...   \n97        97   3723        3723  164.805882     798     497           0   \n98        98   3724        3724  164.852683     802     499           0   \n99        99   3725        3725  164.898793     784     487           0   \n100      100   3726        3726  164.930776     781     518           0   \n101      101   3727        3727  164.976588     732     670           0   \n\n                  Confidence  Timestamp in ms     dx     dy      d       vx  \\\n0    TrackingConfidence.HIGH           160023   99.0  -19.0  100.0   2131.0   \n1    TrackingConfidence.HIGH           160070    0.0    0.0    0.0      0.0   \n2    TrackingConfidence.HIGH           160100  487.0   56.0  490.0  10506.0   \n3    TrackingConfidence.HIGH           160146    2.0  -13.0   13.0     64.0   \n4    TrackingConfidence.HIGH           160177   -4.0   -3.0    5.0    -85.0   \n..                       ...              ...    ...    ...    ...      ...   \n97   TrackingConfidence.HIGH           164805    4.0    2.0    4.0     85.0   \n98   TrackingConfidence.HIGH           164852  -18.0  -12.0   21.0   -390.0   \n99   TrackingConfidence.HIGH           164898   -3.0   31.0   31.0    -93.0   \n100  TrackingConfidence.HIGH           164930  -49.0  152.0  159.0  -1069.0   \n101  TrackingConfidence.HIGH           164976   25.0  259.0  260.0    526.0   \n\n         vy        v    a  Fixation  Saccades  \n0     408.0   2169.0  1.0     282.0         0  \n1       0.0      0.0  0.0     282.0         0  \n2    1208.0  10575.0  1.0     282.0         0  \n3     421.0    426.0  0.0       0.0         1  \n4      64.0    107.0  0.0     283.0         0  \n..      ...      ...  ...       ...       ...  \n97     42.0     95.0  1.0     290.0         0  \n98    260.0    469.0  0.0     290.0         0  \n99    969.0    973.0  0.0     290.0         0  \n100  3317.0   3486.0  0.0     290.0         0  \n101  5457.0   5482.0  0.0       0.0         1  \n\n[102 rows x 18 columns]",
      "text/html": "<div>\n<style scoped>\n    .dataframe tbody tr th:only-of-type {\n        vertical-align: middle;\n    }\n\n    .dataframe tbody tr th {\n        vertical-align: top;\n    }\n\n    .dataframe thead th {\n        text-align: right;\n    }\n</style>\n<table border=\"1\" class=\"dataframe\">\n  <thead>\n    <tr style=\"text-align: right;\">\n      <th></th>\n      <th>level_0</th>\n      <th>index</th>\n      <th>Unnamed: 0</th>\n      <th>Timestamp</th>\n      <th>Gaze X</th>\n      <th>Gaze Y</th>\n      <th>Lost Track</th>\n      <th>Confidence</th>\n      <th>Timestamp in ms</th>\n      <th>dx</th>\n      <th>dy</th>\n      <th>d</th>\n      <th>vx</th>\n      <th>vy</th>\n      <th>v</th>\n      <th>a</th>\n      <th>Fixation</th>\n      <th>Saccades</th>\n    </tr>\n  </thead>\n  <tbody>\n    <tr>\n      <th>0</th>\n      <td>0</td>\n      <td>3611</td>\n      <td>3611</td>\n      <td>160.023674</td>\n      <td>238</td>\n      <td>389</td>\n      <td>0</td>\n      <td>TrackingConfidence.HIGH</td>\n      <td>160023</td>\n      <td>99.0</td>\n      <td>-19.0</td>\n      <td>100.0</td>\n      <td>2131.0</td>\n      <td>408.0</td>\n      <td>2169.0</td>\n      <td>1.0</td>\n      <td>282.0</td>\n      <td>0</td>\n    </tr>\n    <tr>\n      <th>1</th>\n      <td>1</td>\n      <td>3612</td>\n      <td>3612</td>\n      <td>160.070128</td>\n      <td>337</td>\n      <td>370</td>\n      <td>0</td>\n      <td>TrackingConfidence.HIGH</td>\n      <td>160070</td>\n      <td>0.0</td>\n      <td>0.0</td>\n      <td>0.0</td>\n      <td>0.0</td>\n      <td>0.0</td>\n      <td>0.0</td>\n      <td>0.0</td>\n      <td>282.0</td>\n      <td>0</td>\n    </tr>\n    <tr>\n      <th>2</th>\n      <td>2</td>\n      <td>3613</td>\n      <td>3613</td>\n      <td>160.100513</td>\n      <td>337</td>\n      <td>370</td>\n      <td>0</td>\n      <td>TrackingConfidence.HIGH</td>\n      <td>160100</td>\n      <td>487.0</td>\n      <td>56.0</td>\n      <td>490.0</td>\n      <td>10506.0</td>\n      <td>1208.0</td>\n      <td>10575.0</td>\n      <td>1.0</td>\n      <td>282.0</td>\n      <td>0</td>\n    </tr>\n    <tr>\n      <th>3</th>\n      <td>3</td>\n      <td>3614</td>\n      <td>3614</td>\n      <td>160.146865</td>\n      <td>824</td>\n      <td>426</td>\n      <td>0</td>\n      <td>TrackingConfidence.HIGH</td>\n      <td>160146</td>\n      <td>2.0</td>\n      <td>-13.0</td>\n      <td>13.0</td>\n      <td>64.0</td>\n      <td>421.0</td>\n      <td>426.0</td>\n      <td>0.0</td>\n      <td>0.0</td>\n      <td>1</td>\n    </tr>\n    <tr>\n      <th>4</th>\n      <td>4</td>\n      <td>3615</td>\n      <td>3615</td>\n      <td>160.177695</td>\n      <td>826</td>\n      <td>413</td>\n      <td>0</td>\n      <td>TrackingConfidence.HIGH</td>\n      <td>160177</td>\n      <td>-4.0</td>\n      <td>-3.0</td>\n      <td>5.0</td>\n      <td>-85.0</td>\n      <td>64.0</td>\n      <td>107.0</td>\n      <td>0.0</td>\n      <td>283.0</td>\n      <td>0</td>\n    </tr>\n    <tr>\n      <th>...</th>\n      <td>...</td>\n      <td>...</td>\n      <td>...</td>\n      <td>...</td>\n      <td>...</td>\n      <td>...</td>\n      <td>...</td>\n      <td>...</td>\n      <td>...</td>\n      <td>...</td>\n      <td>...</td>\n      <td>...</td>\n      <td>...</td>\n      <td>...</td>\n      <td>...</td>\n      <td>...</td>\n      <td>...</td>\n      <td>...</td>\n    </tr>\n    <tr>\n      <th>97</th>\n      <td>97</td>\n      <td>3723</td>\n      <td>3723</td>\n      <td>164.805882</td>\n      <td>798</td>\n      <td>497</td>\n      <td>0</td>\n      <td>TrackingConfidence.HIGH</td>\n      <td>164805</td>\n      <td>4.0</td>\n      <td>2.0</td>\n      <td>4.0</td>\n      <td>85.0</td>\n      <td>42.0</td>\n      <td>95.0</td>\n      <td>1.0</td>\n      <td>290.0</td>\n      <td>0</td>\n    </tr>\n    <tr>\n      <th>98</th>\n      <td>98</td>\n      <td>3724</td>\n      <td>3724</td>\n      <td>164.852683</td>\n      <td>802</td>\n      <td>499</td>\n      <td>0</td>\n      <td>TrackingConfidence.HIGH</td>\n      <td>164852</td>\n      <td>-18.0</td>\n      <td>-12.0</td>\n      <td>21.0</td>\n      <td>-390.0</td>\n      <td>260.0</td>\n      <td>469.0</td>\n      <td>0.0</td>\n      <td>290.0</td>\n      <td>0</td>\n    </tr>\n    <tr>\n      <th>99</th>\n      <td>99</td>\n      <td>3725</td>\n      <td>3725</td>\n      <td>164.898793</td>\n      <td>784</td>\n      <td>487</td>\n      <td>0</td>\n      <td>TrackingConfidence.HIGH</td>\n      <td>164898</td>\n      <td>-3.0</td>\n      <td>31.0</td>\n      <td>31.0</td>\n      <td>-93.0</td>\n      <td>969.0</td>\n      <td>973.0</td>\n      <td>0.0</td>\n      <td>290.0</td>\n      <td>0</td>\n    </tr>\n    <tr>\n      <th>100</th>\n      <td>100</td>\n      <td>3726</td>\n      <td>3726</td>\n      <td>164.930776</td>\n      <td>781</td>\n      <td>518</td>\n      <td>0</td>\n      <td>TrackingConfidence.HIGH</td>\n      <td>164930</td>\n      <td>-49.0</td>\n      <td>152.0</td>\n      <td>159.0</td>\n      <td>-1069.0</td>\n      <td>3317.0</td>\n      <td>3486.0</td>\n      <td>0.0</td>\n      <td>290.0</td>\n      <td>0</td>\n    </tr>\n    <tr>\n      <th>101</th>\n      <td>101</td>\n      <td>3727</td>\n      <td>3727</td>\n      <td>164.976588</td>\n      <td>732</td>\n      <td>670</td>\n      <td>0</td>\n      <td>TrackingConfidence.HIGH</td>\n      <td>164976</td>\n      <td>25.0</td>\n      <td>259.0</td>\n      <td>260.0</td>\n      <td>526.0</td>\n      <td>5457.0</td>\n      <td>5482.0</td>\n      <td>0.0</td>\n      <td>0.0</td>\n      <td>1</td>\n    </tr>\n  </tbody>\n</table>\n<p>102 rows × 18 columns</p>\n</div>"
     },
     "execution_count": 1084,
     "metadata": {},
     "output_type": "execute_result"
    }
   ],
   "source": [],
   "metadata": {
    "collapsed": false,
    "pycharm": {
     "name": "#%%\n"
    }
   }
  },
  {
   "cell_type": "code",
   "execution_count": 1088,
   "outputs": [
    {
     "data": {
      "text/plain": "1    7\nName: Saccades, dtype: int64"
     },
     "execution_count": 1088,
     "metadata": {},
     "output_type": "execute_result"
    }
   ],
   "source": [
    "# Anzahl an Saccaden\n",
    "df_sacc = ft.sac(df_filter)\n",
    "try:\n",
    "    del df_filter['Saccades']\n",
    "    del df_filter['level_0']\n",
    "except ValueError: pass\n",
    "df_filter = pd.concat([df_filter.reset_index(),df_sacc],axis=1,)\n",
    "df_filter\n",
    "df_filter['Saccades'].value_counts(sort=False)\n",
    "sac_count = df_filter['Saccades'].value_counts(sort=False).filter(like='1')\n",
    "sac_count"
   ],
   "metadata": {
    "collapsed": false,
    "pycharm": {
     "name": "#%%\n"
    }
   }
  },
  {
   "cell_type": "code",
   "execution_count": null,
   "outputs": [],
   "source": [
    "\"\"\"\n",
    "Export Ziel:\n",
    "    Clip Länge\n",
    "    Anzahl Fixationen\n",
    "    Gesamt Dauer Fixationen\n",
    "    Anzahl Sakkaden\n",
    "    Gesamt Dauer Sakkaden\n",
    "    Anzahl Lost Tracks\n",
    "    Dauer Lost Tracks\n",
    "\"\"\""
   ],
   "metadata": {
    "collapsed": false,
    "pycharm": {
     "name": "#%%\n"
    }
   }
  },
  {
   "cell_type": "code",
   "execution_count": 1042,
   "outputs": [],
   "source": [
    "df_pipe = pd.DataFrame({'Clip Länge': [], 'Anzahl Fixation': [], 'Gesamt Dauer Fixation': [], \"Anzahl Sakkaden\": [], \"Gesamt Dauer Sakkaden\": [], \"Anzahl Lost Tracks\": [], \"Dauer Lost Tracks\": []})"
   ],
   "metadata": {
    "collapsed": false,
    "pycharm": {
     "name": "#%%\n"
    }
   }
  },
  {
   "cell_type": "code",
   "execution_count": 1023,
   "outputs": [
    {
     "data": {
      "text/plain": "0     NaN\n105   NaN\nName: Timestamp, dtype: float64"
     },
     "execution_count": 1023,
     "metadata": {},
     "output_type": "execute_result"
    }
   ],
   "source": [],
   "metadata": {
    "collapsed": false,
    "pycharm": {
     "name": "#%%\n"
    }
   }
  },
  {
   "cell_type": "code",
   "execution_count": null,
   "outputs": [],
   "source": [],
   "metadata": {
    "collapsed": false,
    "pycharm": {
     "name": "#%%\n"
    }
   }
  }
 ],
 "metadata": {
  "kernelspec": {
   "display_name": "Python 3",
   "language": "python",
   "name": "python3"
  },
  "language_info": {
   "codemirror_mode": {
    "name": "ipython",
    "version": 2
   },
   "file_extension": ".py",
   "mimetype": "text/x-python",
   "name": "python",
   "nbconvert_exporter": "python",
   "pygments_lexer": "ipython2",
   "version": "2.7.6"
  }
 },
 "nbformat": 4,
 "nbformat_minor": 0
}