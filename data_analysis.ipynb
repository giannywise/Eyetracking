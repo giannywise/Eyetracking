{
 "cells": [
  {
   "cell_type": "code",
   "execution_count": 50,
   "outputs": [],
   "source": [
    "import math\n",
    "\n",
    "import pandas as pd\n",
    "import numpy as np\n",
    "import time\n",
    "import os\n",
    "import matplotlib.pyplot as plt"
   ],
   "metadata": {
    "collapsed": false,
    "pycharm": {
     "name": "#%%\n"
    }
   }
  },
  {
   "cell_type": "code",
   "execution_count": 183,
   "outputs": [
    {
     "data": {
      "text/plain": "       Index   Timestamp  Gaze X  Gaze Y  Lost Track               Confidence  \\\n29        29    0.577272    1318     998         NaN  TrackingConfidence.HIGH   \n30        30    0.596290    1318     998         NaN  TrackingConfidence.HIGH   \n31        31    0.616308    1318     998         NaN  TrackingConfidence.HIGH   \n32        32    0.636325    1330    1003         NaN  TrackingConfidence.HIGH   \n33        33    0.655343    1329    1014         NaN  TrackingConfidence.HIGH   \n...      ...         ...     ...     ...         ...                      ...   \n15878  15878  328.102475    1316     589         NaN  TrackingConfidence.HIGH   \n15879  15879  328.122494    1314     581         NaN  TrackingConfidence.HIGH   \n15880  15880  328.144421    1316     581         NaN  TrackingConfidence.HIGH   \n15881  15881  328.165344    1320     572         NaN  TrackingConfidence.HIGH   \n15882  15882  328.185908    1320     572         NaN  TrackingConfidence.HIGH   \n\n       Timestamp in ms  \n29                 577  \n30                 596  \n31                 616  \n32                 636  \n33                 655  \n...                ...  \n15878           328102  \n15879           328122  \n15880           328144  \n15881           328165  \n15882           328185  \n\n[15269 rows x 7 columns]",
      "text/html": "<div>\n<style scoped>\n    .dataframe tbody tr th:only-of-type {\n        vertical-align: middle;\n    }\n\n    .dataframe tbody tr th {\n        vertical-align: top;\n    }\n\n    .dataframe thead th {\n        text-align: right;\n    }\n</style>\n<table border=\"1\" class=\"dataframe\">\n  <thead>\n    <tr style=\"text-align: right;\">\n      <th></th>\n      <th>Index</th>\n      <th>Timestamp</th>\n      <th>Gaze X</th>\n      <th>Gaze Y</th>\n      <th>Lost Track</th>\n      <th>Confidence</th>\n      <th>Timestamp in ms</th>\n    </tr>\n  </thead>\n  <tbody>\n    <tr>\n      <th>29</th>\n      <td>29</td>\n      <td>0.577272</td>\n      <td>1318</td>\n      <td>998</td>\n      <td>NaN</td>\n      <td>TrackingConfidence.HIGH</td>\n      <td>577</td>\n    </tr>\n    <tr>\n      <th>30</th>\n      <td>30</td>\n      <td>0.596290</td>\n      <td>1318</td>\n      <td>998</td>\n      <td>NaN</td>\n      <td>TrackingConfidence.HIGH</td>\n      <td>596</td>\n    </tr>\n    <tr>\n      <th>31</th>\n      <td>31</td>\n      <td>0.616308</td>\n      <td>1318</td>\n      <td>998</td>\n      <td>NaN</td>\n      <td>TrackingConfidence.HIGH</td>\n      <td>616</td>\n    </tr>\n    <tr>\n      <th>32</th>\n      <td>32</td>\n      <td>0.636325</td>\n      <td>1330</td>\n      <td>1003</td>\n      <td>NaN</td>\n      <td>TrackingConfidence.HIGH</td>\n      <td>636</td>\n    </tr>\n    <tr>\n      <th>33</th>\n      <td>33</td>\n      <td>0.655343</td>\n      <td>1329</td>\n      <td>1014</td>\n      <td>NaN</td>\n      <td>TrackingConfidence.HIGH</td>\n      <td>655</td>\n    </tr>\n    <tr>\n      <th>...</th>\n      <td>...</td>\n      <td>...</td>\n      <td>...</td>\n      <td>...</td>\n      <td>...</td>\n      <td>...</td>\n      <td>...</td>\n    </tr>\n    <tr>\n      <th>15878</th>\n      <td>15878</td>\n      <td>328.102475</td>\n      <td>1316</td>\n      <td>589</td>\n      <td>NaN</td>\n      <td>TrackingConfidence.HIGH</td>\n      <td>328102</td>\n    </tr>\n    <tr>\n      <th>15879</th>\n      <td>15879</td>\n      <td>328.122494</td>\n      <td>1314</td>\n      <td>581</td>\n      <td>NaN</td>\n      <td>TrackingConfidence.HIGH</td>\n      <td>328122</td>\n    </tr>\n    <tr>\n      <th>15880</th>\n      <td>15880</td>\n      <td>328.144421</td>\n      <td>1316</td>\n      <td>581</td>\n      <td>NaN</td>\n      <td>TrackingConfidence.HIGH</td>\n      <td>328144</td>\n    </tr>\n    <tr>\n      <th>15881</th>\n      <td>15881</td>\n      <td>328.165344</td>\n      <td>1320</td>\n      <td>572</td>\n      <td>NaN</td>\n      <td>TrackingConfidence.HIGH</td>\n      <td>328165</td>\n    </tr>\n    <tr>\n      <th>15882</th>\n      <td>15882</td>\n      <td>328.185908</td>\n      <td>1320</td>\n      <td>572</td>\n      <td>NaN</td>\n      <td>TrackingConfidence.HIGH</td>\n      <td>328185</td>\n    </tr>\n  </tbody>\n</table>\n<p>15269 rows × 7 columns</p>\n</div>"
     },
     "execution_count": 183,
     "metadata": {},
     "output_type": "execute_result"
    }
   ],
   "source": [
    "df = pd.read_csv(\"Daten/Jannis_16_06.csv\",sep=\";\")\n",
    "\n",
    "df['Gaze X'] = df['Gaze X'].astype(int)\n",
    "df['Gaze Y'] = df['Gaze Y'].astype(int)\n",
    "df['Timestamp in ms'] = df['Timestamp'] * 1000\n",
    "df['Timestamp in ms'] = df['Timestamp in ms'].astype(int)\n",
    "df = df[(df[\"Gaze Y\"] < 1030) == True]\n",
    "df\n",
    "#df.to_csv(\"test_test.csv\")\n",
    "#df[\"Gaze Y\"][1773:2324].mean()"
   ],
   "metadata": {
    "collapsed": false,
    "pycharm": {
     "name": "#%%\n"
    }
   }
  },
  {
   "cell_type": "code",
   "execution_count": 182,
   "outputs": [
    {
     "data": {
      "text/plain": "       Index   Timestamp  Gaze X  Gaze Y  Lost Track               Confidence  \\\n29        29    0.577272    1318     998         NaN  TrackingConfidence.HIGH   \n30        30    0.596290    1318     998         NaN  TrackingConfidence.HIGH   \n31        31    0.616308    1318     998         NaN  TrackingConfidence.HIGH   \n32        32    0.636325    1330    1003         NaN  TrackingConfidence.HIGH   \n33        33    0.655343    1329    1014         NaN  TrackingConfidence.HIGH   \n...      ...         ...     ...     ...         ...                      ...   \n15878  15878  328.102475    1316     589         NaN  TrackingConfidence.HIGH   \n15879  15879  328.122494    1314     581         NaN  TrackingConfidence.HIGH   \n15880  15880  328.144421    1316     581         NaN  TrackingConfidence.HIGH   \n15881  15881  328.165344    1320     572         NaN  TrackingConfidence.HIGH   \n15882  15882  328.185908    1320     572         NaN  TrackingConfidence.HIGH   \n\n       Timestamp in ms  \n29                 577  \n30                 596  \n31                 616  \n32                 636  \n33                 655  \n...                ...  \n15878           328102  \n15879           328122  \n15880           328144  \n15881           328165  \n15882           328185  \n\n[15269 rows x 7 columns]",
      "text/html": "<div>\n<style scoped>\n    .dataframe tbody tr th:only-of-type {\n        vertical-align: middle;\n    }\n\n    .dataframe tbody tr th {\n        vertical-align: top;\n    }\n\n    .dataframe thead th {\n        text-align: right;\n    }\n</style>\n<table border=\"1\" class=\"dataframe\">\n  <thead>\n    <tr style=\"text-align: right;\">\n      <th></th>\n      <th>Index</th>\n      <th>Timestamp</th>\n      <th>Gaze X</th>\n      <th>Gaze Y</th>\n      <th>Lost Track</th>\n      <th>Confidence</th>\n      <th>Timestamp in ms</th>\n    </tr>\n  </thead>\n  <tbody>\n    <tr>\n      <th>29</th>\n      <td>29</td>\n      <td>0.577272</td>\n      <td>1318</td>\n      <td>998</td>\n      <td>NaN</td>\n      <td>TrackingConfidence.HIGH</td>\n      <td>577</td>\n    </tr>\n    <tr>\n      <th>30</th>\n      <td>30</td>\n      <td>0.596290</td>\n      <td>1318</td>\n      <td>998</td>\n      <td>NaN</td>\n      <td>TrackingConfidence.HIGH</td>\n      <td>596</td>\n    </tr>\n    <tr>\n      <th>31</th>\n      <td>31</td>\n      <td>0.616308</td>\n      <td>1318</td>\n      <td>998</td>\n      <td>NaN</td>\n      <td>TrackingConfidence.HIGH</td>\n      <td>616</td>\n    </tr>\n    <tr>\n      <th>32</th>\n      <td>32</td>\n      <td>0.636325</td>\n      <td>1330</td>\n      <td>1003</td>\n      <td>NaN</td>\n      <td>TrackingConfidence.HIGH</td>\n      <td>636</td>\n    </tr>\n    <tr>\n      <th>33</th>\n      <td>33</td>\n      <td>0.655343</td>\n      <td>1329</td>\n      <td>1014</td>\n      <td>NaN</td>\n      <td>TrackingConfidence.HIGH</td>\n      <td>655</td>\n    </tr>\n    <tr>\n      <th>...</th>\n      <td>...</td>\n      <td>...</td>\n      <td>...</td>\n      <td>...</td>\n      <td>...</td>\n      <td>...</td>\n      <td>...</td>\n    </tr>\n    <tr>\n      <th>15878</th>\n      <td>15878</td>\n      <td>328.102475</td>\n      <td>1316</td>\n      <td>589</td>\n      <td>NaN</td>\n      <td>TrackingConfidence.HIGH</td>\n      <td>328102</td>\n    </tr>\n    <tr>\n      <th>15879</th>\n      <td>15879</td>\n      <td>328.122494</td>\n      <td>1314</td>\n      <td>581</td>\n      <td>NaN</td>\n      <td>TrackingConfidence.HIGH</td>\n      <td>328122</td>\n    </tr>\n    <tr>\n      <th>15880</th>\n      <td>15880</td>\n      <td>328.144421</td>\n      <td>1316</td>\n      <td>581</td>\n      <td>NaN</td>\n      <td>TrackingConfidence.HIGH</td>\n      <td>328144</td>\n    </tr>\n    <tr>\n      <th>15881</th>\n      <td>15881</td>\n      <td>328.165344</td>\n      <td>1320</td>\n      <td>572</td>\n      <td>NaN</td>\n      <td>TrackingConfidence.HIGH</td>\n      <td>328165</td>\n    </tr>\n    <tr>\n      <th>15882</th>\n      <td>15882</td>\n      <td>328.185908</td>\n      <td>1320</td>\n      <td>572</td>\n      <td>NaN</td>\n      <td>TrackingConfidence.HIGH</td>\n      <td>328185</td>\n    </tr>\n  </tbody>\n</table>\n<p>15269 rows × 7 columns</p>\n</div>"
     },
     "execution_count": 182,
     "metadata": {},
     "output_type": "execute_result"
    }
   ],
   "source": [],
   "metadata": {
    "collapsed": false,
    "pycharm": {
     "name": "#%%\n"
    }
   }
  },
  {
   "cell_type": "code",
   "execution_count": 186,
   "outputs": [
    {
     "data": {
      "text/plain": "1856    367\n1857    367\n1858    365\n1859    365\n1860    359\n       ... \n2411    553\n2412    553\n2413    553\n2414    555\n2415    549\nName: Gaze Y, Length: 551, dtype: int32"
     },
     "execution_count": 186,
     "metadata": {},
     "output_type": "execute_result"
    }
   ],
   "source": [
    "df[\"Gaze Y\"][1773:2324]"
   ],
   "metadata": {
    "collapsed": false,
    "pycharm": {
     "name": "#%%\n"
    }
   }
  },
  {
   "cell_type": "code",
   "execution_count": 197,
   "outputs": [
    {
     "data": {
      "text/plain": "<Figure size 432x288 with 1 Axes>",
      "image/png": "[encoded data removed]"
     },
     "metadata": {
      "needs_background": "light"
     },
     "output_type": "display_data"
    }
   ],
   "source": [
    "x = df[\"Gaze X\"][8888:9388]\n",
    "y = df[\"Gaze Y\"][8888:9388] * -1\n",
    "t = df[\"Timestamp\"].head(100)\n",
    "plt.axis([2000,0,-1100,0])\n",
    "plt.scatter(x,y, s = 1)\n",
    "plt.show()"
   ],
   "metadata": {
    "collapsed": false,
    "pycharm": {
     "name": "#%%\n"
    }
   }
  },
  {
   "cell_type": "code",
   "execution_count": null,
   "outputs": [],
   "source": [],
   "metadata": {
    "collapsed": false,
    "pycharm": {
     "name": "#%%\n"
    }
   }
  }
 ],
 "metadata": {
  "kernelspec": {
   "display_name": "Python 3",
   "language": "python",
   "name": "python3"
  },
  "language_info": {
   "codemirror_mode": {
    "name": "ipython",
    "version": 2
   },
   "file_extension": ".py",
   "mimetype": "text/x-python",
   "name": "python",
   "nbconvert_exporter": "python",
   "pygments_lexer": "ipython2",
   "version": "2.7.6"
  }
 },
 "nbformat": 4,
 "nbformat_minor": 0
}